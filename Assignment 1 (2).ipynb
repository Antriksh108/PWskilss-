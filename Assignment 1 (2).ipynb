{
 "cells": [
  {
   "cell_type": "raw",
   "id": "06b2e3f1-20da-46ff-a403-3d219aceaf51",
   "metadata": {},
   "source": [
    "Q1. who developed python programming language ?\n",
    "Answer: Dutch programmer guido van rossum release the first version of the project.A brand new scripting language called python.\n"
   ]
  },
  {
   "cell_type": "raw",
   "id": "7552ce31-d686-433f-b6fc-cbc749c22feb",
   "metadata": {},
   "source": [
    "Q2. which type of programming does python support ?\n",
    "Answer : Python supports multiple programming paradigms including procedural, object-oriented, functional and imperative programming. It also has support for various software development approaches such as test-driven development and functional programming. Additionally, Python is used extensively in scientific computing, data mining, and machine learning due to its extensive libraries and frameworks supporting these domains."
   ]
  },
  {
   "cell_type": "raw",
   "id": "e27d9da4-43e8-4bcc-9887-f01d911a6a11",
   "metadata": {},
   "source": [
    "Q3. is python case sensitive when dealing with identifiers?\n",
    "Answer : Yes"
   ]
  },
  {
   "cell_type": "raw",
   "id": "49eb510c-0d36-48c1-8e67-9912e24cfac3",
   "metadata": {},
   "source": [
    "Q4. What is the correct extension of the Python file?\n",
    "Answer : .py"
   ]
  },
  {
   "cell_type": "raw",
   "id": "34d9dba9-9932-464c-8c97-6eee4a3892b5",
   "metadata": {},
   "source": [
    "Q5. Is Python code compiled or interpreted?\n",
    "Answer : Python is an interpreted language."
   ]
  },
  {
   "cell_type": "raw",
   "id": "94f6a406-482f-4f27-b1ec-1bd7ec585b8d",
   "metadata": {},
   "source": [
    "Q6. Name a few blocks of code used to define in Python language?\n",
    "Answer: Some common blocks of code used in Python are:\n",
    "\n",
    "Functions: A collection of statements that perform a specific task.\n",
    "Loops: A set of instructions that keep executing repeatedly until a certain condition is met.\n",
    "Classes: A blueprint or template for creating objects that have certain attributes and methods.\n",
    "Conditional statements: Allows the program to make decisions based on a certain condition."
   ]
  },
  {
   "cell_type": "raw",
   "id": "6c33689b-f7d0-4b82-962e-ea73c4054d12",
   "metadata": {},
   "source": [
    "Q7. State a character used to give single-line comments in Python?\n",
    "Answer :  The '#' symbol is used to give single-line comments in Python."
   ]
  },
  {
   "cell_type": "raw",
   "id": "cf9d4a98-14c9-43c9-9bdf-1beeff1efc78",
   "metadata": {},
   "source": [
    "Q8. Mention functions which can help us to find the version of python that we are currently working on?\n",
    "Answer : There are a few functions that can help you find the version of Python you are working on, such as:\n",
    "\n",
    "sys.version: This function returns a string containing the version of Python, along with additional version information about the build and platform.\n",
    "\n",
    "platform.python_version(): This function returns a string containing the version of Python in a more readable format, including the major, minor, and micro versions.\n",
    "\n",
    "platform.python_implementation(): This function returns the name of the Python implementation you are using, such as CPython, Jython, IronPython, or PyPy."
   ]
  },
  {
   "cell_type": "raw",
   "id": "bac50e23-20d6-4cfa-8750-364198f68e70",
   "metadata": {},
   "source": [
    "Q9.Python supports the creation of anonymous functions at runtime, using a construct called \n",
    "Answer: \"lambda\" functions."
   ]
  },
  {
   "cell_type": "raw",
   "id": "1f661e32-af6f-4045-8aaa-06368dd8c511",
   "metadata": {},
   "source": [
    "Q10.  What does pip stand for python? \n",
    "Ans : PIP stands for \"Pip Installs Packages\" or \"Pip Installs Python\"."
   ]
  },
  {
   "cell_type": "raw",
   "id": "93652bcc-6f4b-49bd-88e8-b5e01e5397af",
   "metadata": {},
   "source": [
    "Q11.  Mention a few built-in functions in python? \n",
    "Ans : print(): This function is used to print a message or variable values to the console.\n",
    "\n",
    "type(): This function is used to get the data type of a variable or value.\n",
    "\n",
    "len(): This function is used to get the length of a string, list, tuple, or dictionary.\n",
    "\n",
    "input(): This function is used to get user input from the console.\n",
    "\n",
    "range(): This function is used to create a sequence of numbers."
   ]
  },
  {
   "cell_type": "raw",
   "id": "a985ffca-6f7e-4b38-a544-4e7cd32d1417",
   "metadata": {},
   "source": [
    "Q12 .  What is the maximum possible length of an identifier in Python? \n",
    "Ans : In Python, the maximum possible length of an identifier is not specified or limited."
   ]
  },
  {
   "cell_type": "raw",
   "id": "06f2b012-9aa9-409a-9c68-e2f1e172275f",
   "metadata": {},
   "source": [
    "Q.13. What are the benefits of using Python? \n",
    "Ans : Here are the few benefits of using python given below:\n",
    "Easy to Learn and Read\n",
    "Cross-Platform functionality. \n",
    "Open Source\n",
    "Large Standard Library\n",
    "High Productivity"
   ]
  },
  {
   "cell_type": "raw",
   "id": "8c719738-c8fe-46e3-a72f-3b9b126eac35",
   "metadata": {},
   "source": [
    "Q14 .  How is memory managed in Python? \n",
    "Ans :  Python's memory management system is designed to be transparent and efficient, making it easy for developers to write code without worrying about memory management issues, while still providing good performance and reliability.\n",
    "Here's a brief overview of how memory is managed in Python:\n",
    "Reference Counting\n",
    "Garbage Collection\n",
    "Memory Pooling"
   ]
  },
  {
   "cell_type": "raw",
   "id": "db07b8dd-c22e-4fb8-8855-2c2991f3d939",
   "metadata": {},
   "source": [
    "Q15. How to install Python on Windows and set path variables? 16. Is indentation required in python? \n",
    "Ans : Here are the steps to install Python on Windows and set path variables:\n",
    "\n",
    "Download the Python installer from the official Python website (https://www.python.org/downloads/). Choose the appropriate version of Python for your system architecture (32-bit or 64-bit) and download the installer.\n",
    "\n",
    "Run the installer and follow the on-screen instructions to install Python on your system. Make sure to select the option to add Python to the PATH variable during the installation process.\n",
    "\n",
    "Once the installation is complete, open a command prompt and type \"python\" to verify that Python is installed and working properly. You should see the Python interactive shell prompt.\n",
    "\n",
    "If Python is not added to the PATH variable during the installation process, you can add it manually by following these steps:\n",
    "\n",
    "Open the Start menu and search for \"Environment Variables\".\n",
    "Select \"Edit the system environment variables\".\n",
    "Click the \"Environment Variables\" button.\n",
    "Under \"System Variables\", select the \"Path\" variable and click \"Edit\".\n",
    "Add the path to the Python installation directory (e.g., C:\\Python38) to the list of paths, separated by a semicolon (;).\n",
    "Click \"OK\" to save the changes and close the dialog boxes.\n",
    "Now, you can run Python from anywhere on your system by typing \"python\" in the command prompt."
   ]
  },
  {
   "cell_type": "raw",
   "id": "0938eeca-d6bf-4b88-bc0e-9ea075ad45e2",
   "metadata": {},
   "source": [
    "Q.16. Is indentation required in python? \n",
    "Ans : yes, indentation is required in Python."
   ]
  }
 ],
 "metadata": {
  "kernelspec": {
   "display_name": "Python 3 (ipykernel)",
   "language": "python",
   "name": "python3"
  },
  "language_info": {
   "codemirror_mode": {
    "name": "ipython",
    "version": 3
   },
   "file_extension": ".py",
   "mimetype": "text/x-python",
   "name": "python",
   "nbconvert_exporter": "python",
   "pygments_lexer": "ipython3",
   "version": "3.10.8"
  }
 },
 "nbformat": 4,
 "nbformat_minor": 5
}
